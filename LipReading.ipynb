{
  "cells": [
    {
      "cell_type": "code",
      "execution_count": 54,
      "metadata": {
        "colab": {
          "base_uri": "https://localhost:8080/"
        },
        "id": "f5uBncf27C_h",
        "outputId": "9a4fad83-f77e-4048-aad0-ad21558a02ca"
      },
      "outputs": [
        {
          "output_type": "stream",
          "name": "stdout",
          "text": [
            "Drive already mounted at /content/drive; to attempt to forcibly remount, call drive.mount(\"/content/drive\", force_remount=True).\n"
          ]
        }
      ],
      "source": [
        "from google.colab import drive\n",
        "drive.mount('/content/drive')\n"
      ]
    },
    {
      "cell_type": "code",
      "execution_count": 55,
      "metadata": {
        "id": "8Rsc0dSv70I_"
      },
      "outputs": [],
      "source": [
        "import os\n",
        "import cv2\n",
        "import tensorflow as tf\n",
        "import numpy as np\n",
        "from typing import List\n",
        "from matplotlib import pyplot as plt\n",
        "import imageio"
      ]
    },
    {
      "cell_type": "code",
      "execution_count": 56,
      "metadata": {
        "id": "lCjzOxor--SL"
      },
      "outputs": [],
      "source": [
        "def load_video(path:str) -> List[float]:\n",
        "\n",
        "    cap=cv2.VideoCapture(path)\n",
        "    frames = []\n",
        "    for _ in range(int(cap.get(cv2.CAP_PROP_FRAME_COUNT))):\n",
        "        ret, frame = cap.read()\n",
        "        frame = tf.image.rgb_to_grayscale(frame)\n",
        "        frames.append(frame[190:236,80:220,:])\n",
        "    cap.release()\n",
        "\n",
        "    mean=tf.math.reduce_mean(frames)\n",
        "    std =tf.math.reduce_std(tf.cast(frames, tf.float32))\n",
        "    return tf.cast((frames - mean), tf.float32) / std"
      ]
    },
    {
      "cell_type": "code",
      "execution_count": 57,
      "metadata": {
        "id": "B4Gs2gLZ_BSJ"
      },
      "outputs": [],
      "source": [
        "vocab = [x for x in \"abcdefghijklmnopqrstuvwxyz'?!123456789 \"]"
      ]
    },
    {
      "cell_type": "code",
      "execution_count": 58,
      "metadata": {
        "colab": {
          "base_uri": "https://localhost:8080/"
        },
        "id": "pLtiXzx6_Ehd",
        "outputId": "16a1eea5-c17d-408c-da53-ba080787473e"
      },
      "outputs": [
        {
          "output_type": "stream",
          "name": "stdout",
          "text": [
            "The vocabulary is: ['', 'a', 'b', 'c', 'd', 'e', 'f', 'g', 'h', 'i', 'j', 'k', 'l', 'm', 'n', 'o', 'p', 'q', 'r', 's', 't', 'u', 'v', 'w', 'x', 'y', 'z', \"'\", '?', '!', '1', '2', '3', '4', '5', '6', '7', '8', '9', ' '](size = 40)\n"
          ]
        }
      ],
      "source": [
        "char_to_num = tf.keras.layers.StringLookup(vocabulary=vocab, oov_token=\"\")\n",
        "num_to_char = tf.keras.layers.StringLookup(\n",
        "    vocabulary=char_to_num.get_vocabulary(), oov_token=\"\", invert=True)\n",
        "\n",
        "print(\n",
        "    f\"The vocabulary is: {num_to_char.get_vocabulary()}\"\n",
        "    f\"(size = {char_to_num.vocabulary_size()})\")"
      ]
    },
    {
      "cell_type": "code",
      "execution_count": 59,
      "metadata": {
        "id": "VPDYiC0K_GeW"
      },
      "outputs": [],
      "source": [
        "def load_alignments(path:str) -> List[str]:\n",
        "    with open(path, 'r') as f:\n",
        "        lines = f.readlines()\n",
        "    tokens = []\n",
        "    for line in lines:\n",
        "        line = line.split()\n",
        "        if line[2] != 'sil':\n",
        "            tokens = [*tokens,' ',line[2]]\n",
        "    return char_to_num(tf.reshape(tf.strings.unicode_split(tokens, input_encoding='UTF-8'), (-1)))[1:]"
      ]
    },
    {
      "cell_type": "code",
      "execution_count": 60,
      "metadata": {
        "id": "vEKfHtetGGV0"
      },
      "outputs": [],
      "source": [
        "def load_data(path: str):\n",
        "    path = bytes.decode(path.numpy())\n",
        "    #file_name = path.split('/')[-1].split('.')[0]\n",
        "    # File name splitting for windows\n",
        "    file_name = path.split('/')[-1].split('.')[0]\n",
        "    path_bir = '/content/drive/MyDrive/data'\n",
        "    video_path = os.path.join(path_bir,'s1',f'{file_name}.mpg')\n",
        "    alignment_path = os.path.join(path_bir,'alignments','s1',f'{file_name}.align')\n",
        "    frames = load_video(video_path)\n",
        "    alignments = load_alignments(alignment_path)\n",
        "\n",
        "    return frames, alignments"
      ]
    },
    {
      "cell_type": "code",
      "execution_count": 61,
      "metadata": {
        "id": "XSmpJqNjHSe3"
      },
      "outputs": [],
      "source": [
        "test_path = '/content/drive/MyDrive/data/s1/bbaf5a.mpg'"
      ]
    },
    {
      "cell_type": "code",
      "execution_count": 62,
      "metadata": {
        "colab": {
          "base_uri": "https://localhost:8080/",
          "height": 36
        },
        "id": "6yYcuNqYOhNc",
        "outputId": "2cc02b62-486b-4066-ba13-66aafdde4462"
      },
      "outputs": [
        {
          "output_type": "execute_result",
          "data": {
            "text/plain": [
              "'bbaf5a'"
            ],
            "application/vnd.google.colaboratory.intrinsic+json": {
              "type": "string"
            }
          },
          "metadata": {},
          "execution_count": 62
        }
      ],
      "source": [
        "tf.convert_to_tensor(test_path).numpy().decode('utf-8').split('/')[-1].split('.')[0]\n"
      ]
    },
    {
      "cell_type": "code",
      "execution_count": 63,
      "metadata": {
        "id": "ODy_3ezhOnoH"
      },
      "outputs": [],
      "source": [
        "frames, alignments = load_data(tf.convert_to_tensor(test_path))\n"
      ]
    },
    {
      "cell_type": "code",
      "execution_count": 64,
      "metadata": {
        "colab": {
          "base_uri": "https://localhost:8080/",
          "height": 245
        },
        "id": "JYC5CYxAOuoF",
        "outputId": "4598ba05-fd9f-4653-ee77-3b0e6560b3cd"
      },
      "outputs": [
        {
          "output_type": "execute_result",
          "data": {
            "text/plain": [
              "<matplotlib.image.AxesImage at 0x7fc06ad65f60>"
            ]
          },
          "metadata": {},
          "execution_count": 64
        },
        {
          "output_type": "display_data",
          "data": {
            "text/plain": [
              "<Figure size 640x480 with 1 Axes>"
            ],
            "image/png": "[encoded data removed]"
          },
          "metadata": {}
        }
      ],
      "source": [
        "plt.imshow(frames[40])\n"
      ]
    },
    {
      "cell_type": "code",
      "execution_count": 65,
      "metadata": {
        "colab": {
          "base_uri": "https://localhost:8080/"
        },
        "id": "3o5zKB23Ow-e",
        "outputId": "24c86df9-20f4-4efa-ed0e-f8bba2523adf"
      },
      "outputs": [
        {
          "output_type": "execute_result",
          "data": {
            "text/plain": [
              "<tf.Tensor: shape=(), dtype=string, numpy=b'bin blue at f five again'>"
            ]
          },
          "metadata": {},
          "execution_count": 65
        }
      ],
      "source": [
        "tf.strings.reduce_join([bytes.decode(x) for x in num_to_char(alignments.numpy()).numpy()])\n"
      ]
    },
    {
      "cell_type": "code",
      "execution_count": 66,
      "metadata": {
        "id": "PJwrzfx4Oyuu"
      },
      "outputs": [],
      "source": [
        "def mappable_function(path:str) ->List[str]:\n",
        "    result = tf.py_function(load_data, [path], (tf.float32, tf.int64))\n",
        "    return result"
      ]
    },
    {
      "cell_type": "markdown",
      "metadata": {
        "id": "a_uFSEnHO6b9"
      },
      "source": [
        "**Creating Data PipeLine**"
      ]
    },
    {
      "cell_type": "code",
      "execution_count": 67,
      "metadata": {
        "id": "28snj6jOO0u4"
      },
      "outputs": [],
      "source": [
        "from matplotlib import pyplot as plt\n"
      ]
    },
    {
      "cell_type": "code",
      "execution_count": 68,
      "metadata": {
        "id": "xi-1yiOiO478"
      },
      "outputs": [],
      "source": [
        "data = tf.data.Dataset.list_files('/content/drive/MyDrive/data/s1/*.mpg')\n",
        "data = data.shuffle(500, reshuffle_each_iteration=False)\n",
        "data = data.map(mappable_function)\n",
        "data = data.padded_batch(2, padded_shapes=([75,None,None,None],[40]))\n",
        "data = data.prefetch(tf.data.AUTOTUNE)\n",
        "# Added for split\n",
        "train = data.take(450)\n",
        "test = data.skip(450)"
      ]
    },
    {
      "cell_type": "code",
      "execution_count": 69,
      "metadata": {
        "colab": {
          "base_uri": "https://localhost:8080/"
        },
        "id": "JfnCt6vfPAOk",
        "outputId": "c9624914-1987-40b9-92f7-b484626fb878"
      },
      "outputs": [
        {
          "output_type": "execute_result",
          "data": {
            "text/plain": [
              "50"
            ]
          },
          "metadata": {},
          "execution_count": 69
        }
      ],
      "source": [
        "len(test)\n"
      ]
    },
    {
      "cell_type": "code",
      "execution_count": 70,
      "metadata": {
        "id": "alRdy4wbPanx"
      },
      "outputs": [],
      "source": [
        "frames, alignments = data.as_numpy_iterator().next()\n"
      ]
    },
    {
      "cell_type": "code",
      "execution_count": 71,
      "metadata": {
        "colab": {
          "base_uri": "https://localhost:8080/"
        },
        "id": "sgzTaCQoPcDX",
        "outputId": "e4bbb7a8-f3bd-42a7-9041-748e6f3c1399"
      },
      "outputs": [
        {
          "output_type": "execute_result",
          "data": {
            "text/plain": [
              "2"
            ]
          },
          "metadata": {},
          "execution_count": 71
        }
      ],
      "source": [
        "len(frames)\n"
      ]
    },
    {
      "cell_type": "code",
      "execution_count": 72,
      "metadata": {
        "id": "IYrMiLK8PdXi"
      },
      "outputs": [],
      "source": [
        "sample = data.as_numpy_iterator()\n"
      ]
    },
    {
      "cell_type": "code",
      "execution_count": 73,
      "metadata": {
        "colab": {
          "base_uri": "https://localhost:8080/"
        },
        "id": "ZiU0_RcMPfBh",
        "outputId": "4d755179-8d00-4c46-8dde-6efb560e2a75"
      },
      "outputs": [
        {
          "output_type": "execute_result",
          "data": {
            "text/plain": [
              "array([[[[[1.3891094 ],\n",
              "          [1.5017399 ],\n",
              "          [1.5392833 ],\n",
              "          ...,\n",
              "          [0.33789146],\n",
              "          [0.33789146],\n",
              "          [0.33789146]],\n",
              "\n",
              "         [[1.3515658 ],\n",
              "          [1.5017399 ],\n",
              "          [1.5392833 ],\n",
              "          ...,\n",
              "          [0.33789146],\n",
              "          [0.33789146],\n",
              "          [0.33789146]],\n",
              "\n",
              "         [[1.5017399 ],\n",
              "          [1.5017399 ],\n",
              "          [1.4641963 ],\n",
              "          ...,\n",
              "          [0.33789146],\n",
              "          [0.30034795],\n",
              "          [0.30034795]],\n",
              "\n",
              "         ...,\n",
              "\n",
              "         [[1.0136744 ],\n",
              "          [1.0136744 ],\n",
              "          [1.0136744 ],\n",
              "          ...,\n",
              "          [0.        ],\n",
              "          [0.        ],\n",
              "          [0.        ]],\n",
              "\n",
              "         [[1.0136744 ],\n",
              "          [1.0136744 ],\n",
              "          [1.0136744 ],\n",
              "          ...,\n",
              "          [0.        ],\n",
              "          [0.        ],\n",
              "          [0.        ]],\n",
              "\n",
              "         [[1.0136744 ],\n",
              "          [1.0136744 ],\n",
              "          [1.0136744 ],\n",
              "          ...,\n",
              "          [0.        ],\n",
              "          [0.        ],\n",
              "          [9.573591  ]]],\n",
              "\n",
              "\n",
              "        [[[1.3515658 ],\n",
              "          [1.4266528 ],\n",
              "          [1.5017399 ],\n",
              "          ...,\n",
              "          [0.41297844],\n",
              "          [0.37543496],\n",
              "          [0.33789146]],\n",
              "\n",
              "         [[1.3140223 ],\n",
              "          [1.4266528 ],\n",
              "          [1.3515658 ],\n",
              "          ...,\n",
              "          [0.41297844],\n",
              "          [0.37543496],\n",
              "          [0.33789146]],\n",
              "\n",
              "         [[1.4641963 ],\n",
              "          [1.4641963 ],\n",
              "          [1.4266528 ],\n",
              "          ...,\n",
              "          [0.30034795],\n",
              "          [0.30034795],\n",
              "          [0.22526097]],\n",
              "\n",
              "         ...,\n",
              "\n",
              "         [[1.0512179 ],\n",
              "          [1.0512179 ],\n",
              "          [1.0512179 ],\n",
              "          ...,\n",
              "          [0.        ],\n",
              "          [0.        ],\n",
              "          [9.573591  ]],\n",
              "\n",
              "         [[1.0512179 ],\n",
              "          [1.0512179 ],\n",
              "          [1.0136744 ],\n",
              "          ...,\n",
              "          [0.        ],\n",
              "          [9.573591  ],\n",
              "          [9.573591  ]],\n",
              "\n",
              "         [[1.0136744 ],\n",
              "          [1.0136744 ],\n",
              "          [1.0136744 ],\n",
              "          ...,\n",
              "          [9.573591  ],\n",
              "          [9.573591  ],\n",
              "          [9.573591  ]]],\n",
              "\n",
              "\n",
              "        [[[1.3891094 ],\n",
              "          [1.3891094 ],\n",
              "          [1.4641963 ],\n",
              "          ...,\n",
              "          [0.37543496],\n",
              "          [0.30034795],\n",
              "          [0.22526097]],\n",
              "\n",
              "         [[1.3140223 ],\n",
              "          [1.4641963 ],\n",
              "          [1.3515658 ],\n",
              "          ...,\n",
              "          [0.37543496],\n",
              "          [0.30034795],\n",
              "          [0.22526097]],\n",
              "\n",
              "         [[1.4641963 ],\n",
              "          [1.4641963 ],\n",
              "          [1.4266528 ],\n",
              "          ...,\n",
              "          [0.30034795],\n",
              "          [0.30034795],\n",
              "          [0.22526097]],\n",
              "\n",
              "         ...,\n",
              "\n",
              "         [[1.0512179 ],\n",
              "          [1.0512179 ],\n",
              "          [1.0512179 ],\n",
              "          ...,\n",
              "          [0.        ],\n",
              "          [0.        ],\n",
              "          [9.573591  ]],\n",
              "\n",
              "         [[1.0512179 ],\n",
              "          [1.0512179 ],\n",
              "          [1.0136744 ],\n",
              "          ...,\n",
              "          [0.        ],\n",
              "          [9.573591  ],\n",
              "          [9.573591  ]],\n",
              "\n",
              "         [[1.0136744 ],\n",
              "          [1.0136744 ],\n",
              "          [1.0136744 ],\n",
              "          ...,\n",
              "          [9.573591  ],\n",
              "          [9.573591  ],\n",
              "          [9.573591  ]]],\n",
              "\n",
              "\n",
              "        ...,\n",
              "\n",
              "\n",
              "        [[[1.6143702 ],\n",
              "          [1.5768268 ],\n",
              "          [1.2389354 ],\n",
              "          ...,\n",
              "          [0.37543496],\n",
              "          [0.30034795],\n",
              "          [0.30034795]],\n",
              "\n",
              "         [[1.5768268 ],\n",
              "          [1.4266528 ],\n",
              "          [1.1638484 ],\n",
              "          ...,\n",
              "          [0.37543496],\n",
              "          [0.30034795],\n",
              "          [0.30034795]],\n",
              "\n",
              "         [[1.5768268 ],\n",
              "          [1.5768268 ],\n",
              "          [1.5017399 ],\n",
              "          ...,\n",
              "          [0.33789146],\n",
              "          [0.33789146],\n",
              "          [0.33789146]],\n",
              "\n",
              "         ...,\n",
              "\n",
              "         [[1.0887613 ],\n",
              "          [1.0887613 ],\n",
              "          [1.0887613 ],\n",
              "          ...,\n",
              "          [0.07508699],\n",
              "          [0.07508699],\n",
              "          [0.03754349]],\n",
              "\n",
              "         [[1.0887613 ],\n",
              "          [1.0887613 ],\n",
              "          [1.0512179 ],\n",
              "          ...,\n",
              "          [0.07508699],\n",
              "          [0.03754349],\n",
              "          [0.03754349]],\n",
              "\n",
              "         [[1.0512179 ],\n",
              "          [1.0512179 ],\n",
              "          [1.0512179 ],\n",
              "          ...,\n",
              "          [0.03754349],\n",
              "          [0.03754349],\n",
              "          [0.        ]]],\n",
              "\n",
              "\n",
              "        [[[1.6143702 ],\n",
              "          [1.5768268 ],\n",
              "          [1.5392833 ],\n",
              "          ...,\n",
              "          [0.30034795],\n",
              "          [0.33789146],\n",
              "          [0.33789146]],\n",
              "\n",
              "         [[1.4266528 ],\n",
              "          [1.5017399 ],\n",
              "          [1.3515658 ],\n",
              "          ...,\n",
              "          [0.30034795],\n",
              "          [0.33789146],\n",
              "          [0.33789146]],\n",
              "\n",
              "         [[1.6143702 ],\n",
              "          [1.6143702 ],\n",
              "          [1.5017399 ],\n",
              "          ...,\n",
              "          [0.33789146],\n",
              "          [0.30034795],\n",
              "          [0.30034795]],\n",
              "\n",
              "         ...,\n",
              "\n",
              "         [[1.1263049 ],\n",
              "          [1.1263049 ],\n",
              "          [1.1263049 ],\n",
              "          ...,\n",
              "          [0.07508699],\n",
              "          [0.03754349],\n",
              "          [0.03754349]],\n",
              "\n",
              "         [[1.1263049 ],\n",
              "          [1.1263049 ],\n",
              "          [1.0887613 ],\n",
              "          ...,\n",
              "          [0.03754349],\n",
              "          [0.03754349],\n",
              "          [0.        ]],\n",
              "\n",
              "         [[1.0887613 ],\n",
              "          [1.0887613 ],\n",
              "          [1.0887613 ],\n",
              "          ...,\n",
              "          [0.03754349],\n",
              "          [0.        ],\n",
              "          [0.        ]]],\n",
              "\n",
              "\n",
              "        [[[1.6143702 ],\n",
              "          [1.5768268 ],\n",
              "          [1.5392833 ],\n",
              "          ...,\n",
              "          [0.22526097],\n",
              "          [0.26280448],\n",
              "          [0.26280448]],\n",
              "\n",
              "         [[1.4266528 ],\n",
              "          [1.5017399 ],\n",
              "          [1.3515658 ],\n",
              "          ...,\n",
              "          [0.22526097],\n",
              "          [0.26280448],\n",
              "          [0.26280448]],\n",
              "\n",
              "         [[1.6519138 ],\n",
              "          [1.6519138 ],\n",
              "          [1.5392833 ],\n",
              "          ...,\n",
              "          [0.30034795],\n",
              "          [0.33789146],\n",
              "          [0.33789146]],\n",
              "\n",
              "         ...,\n",
              "\n",
              "         [[1.0887613 ],\n",
              "          [1.0887613 ],\n",
              "          [1.0887613 ],\n",
              "          ...,\n",
              "          [0.07508699],\n",
              "          [0.03754349],\n",
              "          [0.03754349]],\n",
              "\n",
              "         [[1.0887613 ],\n",
              "          [1.0887613 ],\n",
              "          [1.0512179 ],\n",
              "          ...,\n",
              "          [0.07508699],\n",
              "          [0.03754349],\n",
              "          [0.03754349]],\n",
              "\n",
              "         [[1.0512179 ],\n",
              "          [1.0512179 ],\n",
              "          [1.0512179 ],\n",
              "          ...,\n",
              "          [0.03754349],\n",
              "          [0.03754349],\n",
              "          [0.        ]]]],\n",
              "\n",
              "\n",
              "\n",
              "       [[[[1.5126067 ],\n",
              "          [1.5126067 ],\n",
              "          [1.3991612 ],\n",
              "          ...,\n",
              "          [8.962195  ],\n",
              "          [9.491608  ],\n",
              "          [0.03781517]],\n",
              "\n",
              "         [[1.5126067 ],\n",
              "          [1.5126067 ],\n",
              "          [1.3991612 ],\n",
              "          ...,\n",
              "          [9.075641  ],\n",
              "          [9.567238  ],\n",
              "          [9.529423  ]],\n",
              "\n",
              "         [[1.3991612 ],\n",
              "          [1.3991612 ],\n",
              "          [1.3991612 ],\n",
              "          ...,\n",
              "          [9.642868  ],\n",
              "          [0.22689101],\n",
              "          [0.22689101]],\n",
              "\n",
              "         ...,\n",
              "\n",
              "         [[0.9831944 ],\n",
              "          [0.9831944 ],\n",
              "          [0.9831944 ],\n",
              "          ...,\n",
              "          [0.        ],\n",
              "          [0.        ],\n",
              "          [0.        ]],\n",
              "\n",
              "         [[0.9831944 ],\n",
              "          [0.9831944 ],\n",
              "          [0.9831944 ],\n",
              "          ...,\n",
              "          [0.        ],\n",
              "          [0.        ],\n",
              "          [0.        ]],\n",
              "\n",
              "         [[0.9831944 ],\n",
              "          [0.9831944 ],\n",
              "          [0.9831944 ],\n",
              "          ...,\n",
              "          [0.        ],\n",
              "          [0.        ],\n",
              "          [9.642868  ]]],\n",
              "\n",
              "\n",
              "        [[[1.4747916 ],\n",
              "          [1.4747916 ],\n",
              "          [1.4369764 ],\n",
              "          ...,\n",
              "          [9.113456  ],\n",
              "          [0.07563034],\n",
              "          [0.07563034]],\n",
              "\n",
              "         [[1.5126067 ],\n",
              "          [1.5126067 ],\n",
              "          [1.4747916 ],\n",
              "          ...,\n",
              "          [9.264716  ],\n",
              "          [9.605053  ],\n",
              "          [0.11344551]],\n",
              "\n",
              "         [[1.3613461 ],\n",
              "          [1.3613461 ],\n",
              "          [1.3613461 ],\n",
              "          ...,\n",
              "          [0.        ],\n",
              "          [0.22689101],\n",
              "          [0.22689101]],\n",
              "\n",
              "         ...,\n",
              "\n",
              "         [[0.9831944 ],\n",
              "          [0.9831944 ],\n",
              "          [0.9831944 ],\n",
              "          ...,\n",
              "          [0.        ],\n",
              "          [0.        ],\n",
              "          [0.        ]],\n",
              "\n",
              "         [[0.9831944 ],\n",
              "          [0.9831944 ],\n",
              "          [0.9831944 ],\n",
              "          ...,\n",
              "          [0.        ],\n",
              "          [0.        ],\n",
              "          [9.642868  ]],\n",
              "\n",
              "         [[0.94537926],\n",
              "          [0.94537926],\n",
              "          [0.94537926],\n",
              "          ...,\n",
              "          [0.        ],\n",
              "          [9.642868  ],\n",
              "          [9.642868  ]]],\n",
              "\n",
              "\n",
              "        [[[1.4747916 ],\n",
              "          [1.4747916 ],\n",
              "          [1.4369764 ],\n",
              "          ...,\n",
              "          [9.113456  ],\n",
              "          [0.07563034],\n",
              "          [0.07563034]],\n",
              "\n",
              "         [[1.5126067 ],\n",
              "          [1.5126067 ],\n",
              "          [1.4747916 ],\n",
              "          ...,\n",
              "          [9.264716  ],\n",
              "          [9.642868  ],\n",
              "          [0.15126067]],\n",
              "\n",
              "         [[1.3613461 ],\n",
              "          [1.3613461 ],\n",
              "          [1.3613461 ],\n",
              "          ...,\n",
              "          [0.        ],\n",
              "          [0.18907584],\n",
              "          [0.18907584]],\n",
              "\n",
              "         ...,\n",
              "\n",
              "         [[0.9831944 ],\n",
              "          [0.9831944 ],\n",
              "          [0.9831944 ],\n",
              "          ...,\n",
              "          [0.        ],\n",
              "          [0.        ],\n",
              "          [0.        ]],\n",
              "\n",
              "         [[0.9831944 ],\n",
              "          [0.9831944 ],\n",
              "          [0.9831944 ],\n",
              "          ...,\n",
              "          [0.        ],\n",
              "          [0.        ],\n",
              "          [9.642868  ]],\n",
              "\n",
              "         [[0.94537926],\n",
              "          [0.94537926],\n",
              "          [0.94537926],\n",
              "          ...,\n",
              "          [0.        ],\n",
              "          [9.642868  ],\n",
              "          [9.642868  ]]],\n",
              "\n",
              "\n",
              "        ...,\n",
              "\n",
              "\n",
              "        [[[1.4747916 ],\n",
              "          [1.4747916 ],\n",
              "          [1.4369764 ],\n",
              "          ...,\n",
              "          [9.189086  ],\n",
              "          [0.03781517],\n",
              "          [0.11344551]],\n",
              "\n",
              "         [[1.4747916 ],\n",
              "          [1.4747916 ],\n",
              "          [1.4369764 ],\n",
              "          ...,\n",
              "          [9.189086  ],\n",
              "          [0.        ],\n",
              "          [0.15126067]],\n",
              "\n",
              "         [[1.5126067 ],\n",
              "          [1.5126067 ],\n",
              "          [1.4747916 ],\n",
              "          ...,\n",
              "          [9.605053  ],\n",
              "          [0.22689101],\n",
              "          [0.22689101]],\n",
              "\n",
              "         ...,\n",
              "\n",
              "         [[1.0966399 ],\n",
              "          [1.0210096 ],\n",
              "          [1.0210096 ],\n",
              "          ...,\n",
              "          [0.03781517],\n",
              "          [0.        ],\n",
              "          [0.        ]],\n",
              "\n",
              "         [[1.0210096 ],\n",
              "          [1.0210096 ],\n",
              "          [1.0210096 ],\n",
              "          ...,\n",
              "          [0.        ],\n",
              "          [0.03781517],\n",
              "          [0.        ]],\n",
              "\n",
              "         [[1.0210096 ],\n",
              "          [1.0210096 ],\n",
              "          [1.0210096 ],\n",
              "          ...,\n",
              "          [0.        ],\n",
              "          [0.        ],\n",
              "          [0.        ]]],\n",
              "\n",
              "\n",
              "        [[[1.5126067 ],\n",
              "          [1.5126067 ],\n",
              "          [1.4747916 ],\n",
              "          ...,\n",
              "          [9.226901  ],\n",
              "          [0.18907584],\n",
              "          [0.22689101]],\n",
              "\n",
              "         [[1.5126067 ],\n",
              "          [1.5126067 ],\n",
              "          [1.4747916 ],\n",
              "          ...,\n",
              "          [9.189086  ],\n",
              "          [0.11344551],\n",
              "          [0.30252135]],\n",
              "\n",
              "         [[1.4369764 ],\n",
              "          [1.3991612 ],\n",
              "          [1.4369764 ],\n",
              "          ...,\n",
              "          [9.642868  ],\n",
              "          [0.22689101],\n",
              "          [0.22689101]],\n",
              "\n",
              "         ...,\n",
              "\n",
              "         [[1.0966399 ],\n",
              "          [1.0210096 ],\n",
              "          [1.0210096 ],\n",
              "          ...,\n",
              "          [0.03781517],\n",
              "          [0.        ],\n",
              "          [0.        ]],\n",
              "\n",
              "         [[1.0210096 ],\n",
              "          [1.0210096 ],\n",
              "          [1.0210096 ],\n",
              "          ...,\n",
              "          [0.03781517],\n",
              "          [0.03781517],\n",
              "          [0.        ]],\n",
              "\n",
              "         [[1.0210096 ],\n",
              "          [1.0210096 ],\n",
              "          [1.0210096 ],\n",
              "          ...,\n",
              "          [0.07563034],\n",
              "          [0.        ],\n",
              "          [0.        ]]],\n",
              "\n",
              "\n",
              "        [[[1.4369764 ],\n",
              "          [1.4369764 ],\n",
              "          [1.4369764 ],\n",
              "          ...,\n",
              "          [9.302531  ],\n",
              "          [0.15126067],\n",
              "          [0.30252135]],\n",
              "\n",
              "         [[1.3991612 ],\n",
              "          [1.3991612 ],\n",
              "          [1.3991612 ],\n",
              "          ...,\n",
              "          [9.302531  ],\n",
              "          [0.15126067],\n",
              "          [0.2647062 ]],\n",
              "\n",
              "         [[1.4369764 ],\n",
              "          [1.3991612 ],\n",
              "          [1.4369764 ],\n",
              "          ...,\n",
              "          [0.03781517],\n",
              "          [0.2647062 ],\n",
              "          [0.2647062 ]],\n",
              "\n",
              "         ...,\n",
              "\n",
              "         [[1.0210096 ],\n",
              "          [0.9831944 ],\n",
              "          [0.9831944 ],\n",
              "          ...,\n",
              "          [0.03781517],\n",
              "          [0.03781517],\n",
              "          [0.03781517]],\n",
              "\n",
              "         [[1.0210096 ],\n",
              "          [1.0210096 ],\n",
              "          [1.0210096 ],\n",
              "          ...,\n",
              "          [0.03781517],\n",
              "          [0.03781517],\n",
              "          [0.        ]],\n",
              "\n",
              "         [[1.0210096 ],\n",
              "          [1.0210096 ],\n",
              "          [1.0210096 ],\n",
              "          ...,\n",
              "          [0.07563034],\n",
              "          [0.        ],\n",
              "          [0.        ]]]]], dtype=float32)"
            ]
          },
          "metadata": {},
          "execution_count": 73
        }
      ],
      "source": [
        "val = sample.next(); val[0]\n"
      ]
    },
    {
      "cell_type": "code",
      "execution_count": 74,
      "metadata": {
        "colab": {
          "base_uri": "https://localhost:8080/"
        },
        "id": "nXstBttyPhys",
        "outputId": "0670981f-4e2a-46c6-c84e-0e6c7f77a1e0"
      },
      "outputs": [
        {
          "output_type": "execute_result",
          "data": {
            "text/plain": [
              "<tf.Tensor: shape=(), dtype=string, numpy=b'set green with x two now'>"
            ]
          },
          "metadata": {},
          "execution_count": 74
        }
      ],
      "source": [
        "tf.strings.reduce_join([num_to_char(word) for word in val[1][0]])\n"
      ]
    },
    {
      "cell_type": "markdown",
      "metadata": {
        "id": "O4JBCVM5PzPa"
      },
      "source": [
        "**Designing the Network**"
      ]
    },
    {
      "cell_type": "code",
      "execution_count": 75,
      "metadata": {
        "id": "EexU5uP9Pq02"
      },
      "outputs": [],
      "source": [
        "from tensorflow.keras.models import Sequential\n",
        "from tensorflow.keras.layers import Conv3D, LSTM, Dense, Dropout, Bidirectional, MaxPool3D, Activation, Reshape, SpatialDropout3D, BatchNormalization, TimeDistributed, Flatten\n",
        "from tensorflow.keras.optimizers import Adam\n",
        "from tensorflow.keras.callbacks import ModelCheckpoint, LearningRateScheduler"
      ]
    },
    {
      "cell_type": "code",
      "execution_count": 76,
      "metadata": {
        "colab": {
          "base_uri": "https://localhost:8080/"
        },
        "id": "YsDUNRtLP6A1",
        "outputId": "92b5fe89-8ba5-45ae-8a0b-e8034bc1d70e"
      },
      "outputs": [
        {
          "output_type": "execute_result",
          "data": {
            "text/plain": [
              "(75, 46, 140, 1)"
            ]
          },
          "metadata": {},
          "execution_count": 76
        }
      ],
      "source": [
        "data.as_numpy_iterator().next()[0][0].shape\n"
      ]
    },
    {
      "cell_type": "code",
      "execution_count": 77,
      "metadata": {
        "id": "qwNOCgVzP7Pv"
      },
      "outputs": [],
      "source": [
        "model = Sequential()\n",
        "model.add(Conv3D(128, 3, input_shape=(75,46,140,1), padding='same'))\n",
        "model.add(Activation('relu'))\n",
        "model.add(MaxPool3D((1,2,2)))\n",
        "\n",
        "model.add(Conv3D(256, 3, padding='same'))\n",
        "model.add(Activation('relu'))\n",
        "model.add(MaxPool3D((1,2,2)))\n",
        "\n",
        "model.add(Conv3D(75, 3, padding='same'))\n",
        "model.add(Activation('relu'))\n",
        "model.add(MaxPool3D((1,2,2)))\n",
        "\n",
        "model.add(TimeDistributed(Flatten()))\n",
        "\n",
        "model.add(Bidirectional(LSTM(128, kernel_initializer='Orthogonal', return_sequences=True)))\n",
        "model.add(Dropout(.5))\n",
        "\n",
        "model.add(Bidirectional(LSTM(128, kernel_initializer='Orthogonal', return_sequences=True)))\n",
        "model.add(Dropout(.5))\n",
        "\n",
        "model.add(Dense(char_to_num.vocabulary_size()+1, kernel_initializer='he_normal', activation='softmax'))"
      ]
    },
    {
      "cell_type": "code",
      "execution_count": 78,
      "metadata": {
        "colab": {
          "base_uri": "https://localhost:8080/"
        },
        "id": "T7slEjT9P9yP",
        "outputId": "bdc0f0f3-3cbc-4fa6-9f58-2b72bbdcb73f"
      },
      "outputs": [
        {
          "output_type": "stream",
          "name": "stdout",
          "text": [
            "Model: \"sequential_1\"\n",
            "_________________________________________________________________\n",
            " Layer (type)                Output Shape              Param #   \n",
            "=================================================================\n",
            " conv3d_3 (Conv3D)           (None, 75, 46, 140, 128   3584      \n",
            "                             )                                   \n",
            "                                                                 \n",
            " activation_3 (Activation)   (None, 75, 46, 140, 128   0         \n",
            "                             )                                   \n",
            "                                                                 \n",
            " max_pooling3d_3 (MaxPoolin  (None, 75, 23, 70, 128)   0         \n",
            " g3D)                                                            \n",
            "                                                                 \n",
            " conv3d_4 (Conv3D)           (None, 75, 23, 70, 256)   884992    \n",
            "                                                                 \n",
            " activation_4 (Activation)   (None, 75, 23, 70, 256)   0         \n",
            "                                                                 \n",
            " max_pooling3d_4 (MaxPoolin  (None, 75, 11, 35, 256)   0         \n",
            " g3D)                                                            \n",
            "                                                                 \n",
            " conv3d_5 (Conv3D)           (None, 75, 11, 35, 75)    518475    \n",
            "                                                                 \n",
            " activation_5 (Activation)   (None, 75, 11, 35, 75)    0         \n",
            "                                                                 \n",
            " max_pooling3d_5 (MaxPoolin  (None, 75, 5, 17, 75)     0         \n",
            " g3D)                                                            \n",
            "                                                                 \n",
            " time_distributed_1 (TimeDi  (None, 75, 6375)          0         \n",
            " stributed)                                                      \n",
            "                                                                 \n",
            " bidirectional_2 (Bidirecti  (None, 75, 256)           6660096   \n",
            " onal)                                                           \n",
            "                                                                 \n",
            " dropout_2 (Dropout)         (None, 75, 256)           0         \n",
            "                                                                 \n",
            " bidirectional_3 (Bidirecti  (None, 75, 256)           394240    \n",
            " onal)                                                           \n",
            "                                                                 \n",
            " dropout_3 (Dropout)         (None, 75, 256)           0         \n",
            "                                                                 \n",
            " dense_1 (Dense)             (None, 75, 41)            10537     \n",
            "                                                                 \n",
            "=================================================================\n",
            "Total params: 8471924 (32.32 MB)\n",
            "Trainable params: 8471924 (32.32 MB)\n",
            "Non-trainable params: 0 (0.00 Byte)\n",
            "_________________________________________________________________\n"
          ]
        }
      ],
      "source": [
        "model.summary()\n"
      ]
    },
    {
      "cell_type": "code",
      "execution_count": 79,
      "metadata": {
        "colab": {
          "base_uri": "https://localhost:8080/"
        },
        "id": "tL5fXdfgQBrb",
        "outputId": "d004baea-b365-4816-b79e-09ca4ff3db5c"
      },
      "outputs": [
        {
          "output_type": "stream",
          "name": "stdout",
          "text": [
            "1/1 [==============================] - 14s 14s/step\n"
          ]
        }
      ],
      "source": [
        "yhat = model.predict(val[0])\n"
      ]
    },
    {
      "cell_type": "code",
      "execution_count": 80,
      "metadata": {
        "colab": {
          "base_uri": "https://localhost:8080/"
        },
        "id": "rJsTNfq6QEX6",
        "outputId": "48cbfd8c-87c1-419f-da65-1c4e1e480e21"
      },
      "outputs": [
        {
          "output_type": "execute_result",
          "data": {
            "text/plain": [
              "<tf.Tensor: shape=(), dtype=string, numpy=b\"'''''''sssssssssssssssssssssssssssssssssssssssssssssssssssssssssssssss\">"
            ]
          },
          "metadata": {},
          "execution_count": 80
        }
      ],
      "source": [
        "tf.strings.reduce_join([num_to_char(x) for x in tf.argmax(yhat[0],axis=1)])\n"
      ]
    },
    {
      "cell_type": "code",
      "execution_count": 81,
      "metadata": {
        "colab": {
          "base_uri": "https://localhost:8080/"
        },
        "id": "xrxxAiYXQMIM",
        "outputId": "20cd98b2-08ab-4a8a-8799-95249e5f0b6f"
      },
      "outputs": [
        {
          "output_type": "execute_result",
          "data": {
            "text/plain": [
              "<tf.Tensor: shape=(), dtype=string, numpy=b\"'''''''sssssssssssssssssssssssssssssssssssssssssssssssssssssssssssssss\">"
            ]
          },
          "metadata": {},
          "execution_count": 81
        }
      ],
      "source": [
        "tf.strings.reduce_join([num_to_char(tf.argmax(x)) for x in yhat[0]])\n"
      ]
    },
    {
      "cell_type": "code",
      "execution_count": 82,
      "metadata": {
        "colab": {
          "base_uri": "https://localhost:8080/"
        },
        "id": "-6JlkQqSQQzx",
        "outputId": "0b368e95-da63-4fc5-95cb-47136a0b275a"
      },
      "outputs": [
        {
          "output_type": "execute_result",
          "data": {
            "text/plain": [
              "(None, 75, 46, 140, 1)"
            ]
          },
          "metadata": {},
          "execution_count": 82
        }
      ],
      "source": [
        "model.input_shape\n"
      ]
    },
    {
      "cell_type": "code",
      "execution_count": 83,
      "metadata": {
        "colab": {
          "base_uri": "https://localhost:8080/"
        },
        "id": "FbisW1X1QSVt",
        "outputId": "779b4c5e-e484-4639-c7bf-d01d4609cfe9"
      },
      "outputs": [
        {
          "output_type": "execute_result",
          "data": {
            "text/plain": [
              "(None, 75, 41)"
            ]
          },
          "metadata": {},
          "execution_count": 83
        }
      ],
      "source": [
        "model.output_shape\n"
      ]
    },
    {
      "cell_type": "markdown",
      "metadata": {
        "id": "XyZwDBTyQUpl"
      },
      "source": [
        "**Training**"
      ]
    },
    {
      "cell_type": "code",
      "execution_count": 84,
      "metadata": {
        "id": "EkKaDWBsQToX"
      },
      "outputs": [],
      "source": [
        "def scheduler(epoch, lr):\n",
        "    if epoch < 30:\n",
        "        return lr\n",
        "    else:\n",
        "        return lr * tf.math.exp(-0.1)"
      ]
    },
    {
      "cell_type": "code",
      "execution_count": 85,
      "metadata": {
        "id": "aFwpv7_zQaam"
      },
      "outputs": [],
      "source": [
        "def CTCLoss(y_true, y_pred):\n",
        "    batch_len = tf.cast(tf.shape(y_true)[0], dtype=\"int64\")\n",
        "    input_length = tf.cast(tf.shape(y_pred)[1], dtype=\"int64\")\n",
        "    label_length = tf.cast(tf.shape(y_true)[1], dtype=\"int64\")\n",
        "\n",
        "    input_length = input_length * tf.ones(shape=(batch_len, 1), dtype=\"int64\")\n",
        "    label_length = label_length * tf.ones(shape=(batch_len, 1), dtype=\"int64\")\n",
        "\n",
        "    loss = tf.keras.backend.ctc_batch_cost(y_true, y_pred, input_length, label_length)\n",
        "    return loss"
      ]
    },
    {
      "cell_type": "code",
      "execution_count": 86,
      "metadata": {
        "id": "0yrfS8IYQjvZ"
      },
      "outputs": [],
      "source": [
        "class ProduceExample(tf.keras.callbacks.Callback):\n",
        "    def __init__(self, dataset) -> None:\n",
        "        self.dataset = dataset.as_numpy_iterator()\n",
        "\n",
        "    def on_epoch_end(self, epoch, logs=None) -> None:\n",
        "        data = self.dataset.next()\n",
        "        yhat = self.model.predict(data[0])\n",
        "        decoded = tf.keras.backend.ctc_decode(yhat, [75,75], greedy=False)[0][0].numpy()\n",
        "        for x in range(len(yhat)):\n",
        "            print('Original:', tf.strings.reduce_join(num_to_char(data[1][x])).numpy().decode('utf-8'))\n",
        "            print('Prediction:', tf.strings.reduce_join(num_to_char(decoded[x])).numpy().decode('utf-8'))\n",
        "            print('~'*100)"
      ]
    },
    {
      "cell_type": "code",
      "execution_count": 87,
      "metadata": {
        "id": "oRSf0zyOQlUZ"
      },
      "outputs": [],
      "source": [
        "from tensorflow.keras.optimizers import legacy\n",
        "\n",
        "model.compile(optimizer=legacy.Adam(learning_rate=0.0001), loss=CTCLoss)"
      ]
    },
    {
      "cell_type": "code",
      "execution_count": 88,
      "metadata": {
        "id": "vRRzym1JQmlQ"
      },
      "outputs": [],
      "source": [
        "checkpoint_callback = ModelCheckpoint(os.path.join('models','checkpoint'), monitor='loss', save_weights_only=True)\n"
      ]
    },
    {
      "cell_type": "code",
      "execution_count": 89,
      "metadata": {
        "id": "TrfHLWztQnp0"
      },
      "outputs": [],
      "source": [
        "schedule_callback = LearningRateScheduler(scheduler)\n"
      ]
    },
    {
      "cell_type": "code",
      "execution_count": 90,
      "metadata": {
        "id": "FycWWsOdQo_f"
      },
      "outputs": [],
      "source": [
        "example_callback = ProduceExample(test)\n"
      ]
    },
    {
      "cell_type": "code",
      "source": [
        "model.load_weights('/content/drive/MyDrive/models/checkpoint')\n"
      ],
      "metadata": {
        "colab": {
          "base_uri": "https://localhost:8080/"
        },
        "id": "o7hU4Zw4TUv5",
        "outputId": "419fc0cc-4276-4a85-baf2-5d4d508ad1d5"
      },
      "execution_count": 91,
      "outputs": [
        {
          "output_type": "execute_result",
          "data": {
            "text/plain": [
              "<tensorflow.python.checkpoint.checkpoint.CheckpointLoadStatus at 0x7fc0702a4be0>"
            ]
          },
          "metadata": {},
          "execution_count": 91
        }
      ]
    },
    {
      "cell_type": "code",
      "source": [
        "test_data = test.as_numpy_iterator()\n"
      ],
      "metadata": {
        "id": "-tylokEhW8rC"
      },
      "execution_count": 92,
      "outputs": []
    },
    {
      "cell_type": "code",
      "source": [
        "sample = test_data.next()\n"
      ],
      "metadata": {
        "id": "1CsAMDAabfT2"
      },
      "execution_count": 93,
      "outputs": []
    },
    {
      "cell_type": "code",
      "source": [
        "yhat = model.predict(sample[0])\n"
      ],
      "metadata": {
        "colab": {
          "base_uri": "https://localhost:8080/"
        },
        "id": "VygoVP-GepTa",
        "outputId": "ec798a36-ef49-44f7-f1ea-8a070c8758ac"
      },
      "execution_count": 94,
      "outputs": [
        {
          "output_type": "stream",
          "name": "stderr",
          "text": [
            "WARNING:tensorflow:Detecting that an object or model or tf.train.Checkpoint is being deleted with unrestored values. See the following logs for the specific values in question. To silence these warnings, use `status.expect_partial()`. See https://www.tensorflow.org/api_docs/python/tf/train/Checkpoint#restorefor details about the status object returned by the restore function.\n",
            "WARNING:tensorflow:Value in checkpoint could not be found in the restored object: (root).optimizer.beta_1\n",
            "WARNING:tensorflow:Value in checkpoint could not be found in the restored object: (root).optimizer.beta_2\n",
            "WARNING:tensorflow:Value in checkpoint could not be found in the restored object: (root).optimizer.decay\n",
            "WARNING:tensorflow:Value in checkpoint could not be found in the restored object: (root).optimizer.learning_rate\n",
            "WARNING:tensorflow:Value in checkpoint could not be found in the restored object: (root).optimizer.iter\n",
            "WARNING:tensorflow:Value in checkpoint could not be found in the restored object: (root).layer_with_weights-3.forward_layer.cell.kernel\n",
            "WARNING:tensorflow:Value in checkpoint could not be found in the restored object: (root).layer_with_weights-3.forward_layer.cell.recurrent_kernel\n",
            "WARNING:tensorflow:Value in checkpoint could not be found in the restored object: (root).layer_with_weights-3.forward_layer.cell.bias\n",
            "WARNING:tensorflow:Value in checkpoint could not be found in the restored object: (root).layer_with_weights-3.backward_layer.cell.kernel\n",
            "WARNING:tensorflow:Value in checkpoint could not be found in the restored object: (root).layer_with_weights-3.backward_layer.cell.recurrent_kernel\n",
            "WARNING:tensorflow:Value in checkpoint could not be found in the restored object: (root).layer_with_weights-3.backward_layer.cell.bias\n",
            "WARNING:tensorflow:Value in checkpoint could not be found in the restored object: (root).layer_with_weights-4.forward_layer.cell.kernel\n",
            "WARNING:tensorflow:Value in checkpoint could not be found in the restored object: (root).layer_with_weights-4.forward_layer.cell.recurrent_kernel\n",
            "WARNING:tensorflow:Value in checkpoint could not be found in the restored object: (root).layer_with_weights-4.forward_layer.cell.bias\n",
            "WARNING:tensorflow:Value in checkpoint could not be found in the restored object: (root).layer_with_weights-4.backward_layer.cell.kernel\n",
            "WARNING:tensorflow:Value in checkpoint could not be found in the restored object: (root).layer_with_weights-4.backward_layer.cell.recurrent_kernel\n",
            "WARNING:tensorflow:Value in checkpoint could not be found in the restored object: (root).layer_with_weights-4.backward_layer.cell.bias\n",
            "WARNING:tensorflow:Value in checkpoint could not be found in the restored object: (root).optimizer's state 'm' for (root).layer_with_weights-0.kernel\n",
            "WARNING:tensorflow:Value in checkpoint could not be found in the restored object: (root).optimizer's state 'm' for (root).layer_with_weights-0.bias\n",
            "WARNING:tensorflow:Value in checkpoint could not be found in the restored object: (root).optimizer's state 'm' for (root).layer_with_weights-1.kernel\n",
            "WARNING:tensorflow:Value in checkpoint could not be found in the restored object: (root).optimizer's state 'm' for (root).layer_with_weights-1.bias\n",
            "WARNING:tensorflow:Value in checkpoint could not be found in the restored object: (root).optimizer's state 'm' for (root).layer_with_weights-2.kernel\n",
            "WARNING:tensorflow:Value in checkpoint could not be found in the restored object: (root).optimizer's state 'm' for (root).layer_with_weights-2.bias\n",
            "WARNING:tensorflow:Value in checkpoint could not be found in the restored object: (root).optimizer's state 'm' for (root).layer_with_weights-5.kernel\n",
            "WARNING:tensorflow:Value in checkpoint could not be found in the restored object: (root).optimizer's state 'm' for (root).layer_with_weights-5.bias\n",
            "WARNING:tensorflow:Value in checkpoint could not be found in the restored object: (root).optimizer's state 'm' for (root).layer_with_weights-3.forward_layer.cell.kernel\n",
            "WARNING:tensorflow:Value in checkpoint could not be found in the restored object: (root).optimizer's state 'm' for (root).layer_with_weights-3.forward_layer.cell.recurrent_kernel\n",
            "WARNING:tensorflow:Value in checkpoint could not be found in the restored object: (root).optimizer's state 'm' for (root).layer_with_weights-3.forward_layer.cell.bias\n",
            "WARNING:tensorflow:Value in checkpoint could not be found in the restored object: (root).optimizer's state 'm' for (root).layer_with_weights-3.backward_layer.cell.kernel\n",
            "WARNING:tensorflow:Value in checkpoint could not be found in the restored object: (root).optimizer's state 'm' for (root).layer_with_weights-3.backward_layer.cell.recurrent_kernel\n",
            "WARNING:tensorflow:Value in checkpoint could not be found in the restored object: (root).optimizer's state 'm' for (root).layer_with_weights-3.backward_layer.cell.bias\n",
            "WARNING:tensorflow:Value in checkpoint could not be found in the restored object: (root).optimizer's state 'm' for (root).layer_with_weights-4.forward_layer.cell.kernel\n",
            "WARNING:tensorflow:Value in checkpoint could not be found in the restored object: (root).optimizer's state 'm' for (root).layer_with_weights-4.forward_layer.cell.recurrent_kernel\n",
            "WARNING:tensorflow:Value in checkpoint could not be found in the restored object: (root).optimizer's state 'm' for (root).layer_with_weights-4.forward_layer.cell.bias\n",
            "WARNING:tensorflow:Value in checkpoint could not be found in the restored object: (root).optimizer's state 'm' for (root).layer_with_weights-4.backward_layer.cell.kernel\n",
            "WARNING:tensorflow:Value in checkpoint could not be found in the restored object: (root).optimizer's state 'm' for (root).layer_with_weights-4.backward_layer.cell.recurrent_kernel\n",
            "WARNING:tensorflow:Value in checkpoint could not be found in the restored object: (root).optimizer's state 'm' for (root).layer_with_weights-4.backward_layer.cell.bias\n",
            "WARNING:tensorflow:Value in checkpoint could not be found in the restored object: (root).optimizer's state 'v' for (root).layer_with_weights-0.kernel\n",
            "WARNING:tensorflow:Value in checkpoint could not be found in the restored object: (root).optimizer's state 'v' for (root).layer_with_weights-0.bias\n",
            "WARNING:tensorflow:Value in checkpoint could not be found in the restored object: (root).optimizer's state 'v' for (root).layer_with_weights-1.kernel\n",
            "WARNING:tensorflow:Value in checkpoint could not be found in the restored object: (root).optimizer's state 'v' for (root).layer_with_weights-1.bias\n",
            "WARNING:tensorflow:Value in checkpoint could not be found in the restored object: (root).optimizer's state 'v' for (root).layer_with_weights-2.kernel\n",
            "WARNING:tensorflow:Value in checkpoint could not be found in the restored object: (root).optimizer's state 'v' for (root).layer_with_weights-2.bias\n",
            "WARNING:tensorflow:Value in checkpoint could not be found in the restored object: (root).optimizer's state 'v' for (root).layer_with_weights-5.kernel\n",
            "WARNING:tensorflow:Value in checkpoint could not be found in the restored object: (root).optimizer's state 'v' for (root).layer_with_weights-5.bias\n",
            "WARNING:tensorflow:Value in checkpoint could not be found in the restored object: (root).optimizer's state 'v' for (root).layer_with_weights-3.forward_layer.cell.kernel\n",
            "WARNING:tensorflow:Value in checkpoint could not be found in the restored object: (root).optimizer's state 'v' for (root).layer_with_weights-3.forward_layer.cell.recurrent_kernel\n",
            "WARNING:tensorflow:Value in checkpoint could not be found in the restored object: (root).optimizer's state 'v' for (root).layer_with_weights-3.forward_layer.cell.bias\n",
            "WARNING:tensorflow:Value in checkpoint could not be found in the restored object: (root).optimizer's state 'v' for (root).layer_with_weights-3.backward_layer.cell.kernel\n",
            "WARNING:tensorflow:Value in checkpoint could not be found in the restored object: (root).optimizer's state 'v' for (root).layer_with_weights-3.backward_layer.cell.recurrent_kernel\n",
            "WARNING:tensorflow:Value in checkpoint could not be found in the restored object: (root).optimizer's state 'v' for (root).layer_with_weights-3.backward_layer.cell.bias\n",
            "WARNING:tensorflow:Value in checkpoint could not be found in the restored object: (root).optimizer's state 'v' for (root).layer_with_weights-4.forward_layer.cell.kernel\n",
            "WARNING:tensorflow:Value in checkpoint could not be found in the restored object: (root).optimizer's state 'v' for (root).layer_with_weights-4.forward_layer.cell.recurrent_kernel\n",
            "WARNING:tensorflow:Value in checkpoint could not be found in the restored object: (root).optimizer's state 'v' for (root).layer_with_weights-4.forward_layer.cell.bias\n",
            "WARNING:tensorflow:Value in checkpoint could not be found in the restored object: (root).optimizer's state 'v' for (root).layer_with_weights-4.backward_layer.cell.kernel\n",
            "WARNING:tensorflow:Value in checkpoint could not be found in the restored object: (root).optimizer's state 'v' for (root).layer_with_weights-4.backward_layer.cell.recurrent_kernel\n",
            "WARNING:tensorflow:Value in checkpoint could not be found in the restored object: (root).optimizer's state 'v' for (root).layer_with_weights-4.backward_layer.cell.bias\n"
          ]
        },
        {
          "output_type": "stream",
          "name": "stdout",
          "text": [
            "1/1 [==============================] - 60s 60s/step\n"
          ]
        }
      ]
    },
    {
      "cell_type": "code",
      "source": [
        "print('~'*100, 'REAL TEXT')\n",
        "[tf.strings.reduce_join([num_to_char(word) for word in sentence]) for sentence in sample[1]]"
      ],
      "metadata": {
        "colab": {
          "base_uri": "https://localhost:8080/"
        },
        "id": "FGaMUBscgJXO",
        "outputId": "65296d11-61cd-4b38-ba3a-11043a05da04"
      },
      "execution_count": 95,
      "outputs": [
        {
          "output_type": "stream",
          "name": "stdout",
          "text": [
            "~~~~~~~~~~~~~~~~~~~~~~~~~~~~~~~~~~~~~~~~~~~~~~~~~~~~~~~~~~~~~~~~~~~~~~~~~~~~~~~~~~~~~~~~~~~~~~~~~~~~ REAL TEXT\n"
          ]
        },
        {
          "output_type": "execute_result",
          "data": {
            "text/plain": [
              "[<tf.Tensor: shape=(), dtype=string, numpy=b'bin blue at l six now'>,\n",
              " <tf.Tensor: shape=(), dtype=string, numpy=b'set blue by a eight now'>]"
            ]
          },
          "metadata": {},
          "execution_count": 95
        }
      ]
    },
    {
      "cell_type": "markdown",
      "source": [
        "**Testing On A Video**"
      ],
      "metadata": {
        "id": "jKhCcHNXg4TR"
      }
    },
    {
      "cell_type": "code",
      "source": [
        "sample = load_data(tf.convert_to_tensor('/content/drive/MyDrive//data/s1/bras9a.mpg'))\n"
      ],
      "metadata": {
        "id": "gLxgZMnxgSKD"
      },
      "execution_count": 97,
      "outputs": []
    },
    {
      "cell_type": "code",
      "source": [
        "print('~'*100, 'REAL TEXT')\n",
        "[tf.strings.reduce_join([num_to_char(word) for word in sentence]) for sentence in [sample[1]]]"
      ],
      "metadata": {
        "colab": {
          "base_uri": "https://localhost:8080/"
        },
        "id": "0RTrf1xwhAQl",
        "outputId": "8b2be17f-72ac-409f-dc95-a975fef642aa"
      },
      "execution_count": 98,
      "outputs": [
        {
          "output_type": "stream",
          "name": "stdout",
          "text": [
            "~~~~~~~~~~~~~~~~~~~~~~~~~~~~~~~~~~~~~~~~~~~~~~~~~~~~~~~~~~~~~~~~~~~~~~~~~~~~~~~~~~~~~~~~~~~~~~~~~~~~ REAL TEXT\n"
          ]
        },
        {
          "output_type": "execute_result",
          "data": {
            "text/plain": [
              "[<tf.Tensor: shape=(), dtype=string, numpy=b'bin red at s nine again'>]"
            ]
          },
          "metadata": {},
          "execution_count": 98
        }
      ]
    },
    {
      "cell_type": "code",
      "source": [
        "yhat = model.predict(tf.expand_dims(sample[0], axis=0))\n"
      ],
      "metadata": {
        "colab": {
          "base_uri": "https://localhost:8080/"
        },
        "id": "MjCkJGlihO9M",
        "outputId": "b9f534b9-22e4-4f1a-bb21-5d54b96b163e"
      },
      "execution_count": 99,
      "outputs": [
        {
          "output_type": "stream",
          "name": "stdout",
          "text": [
            "1/1 [==============================] - 8s 8s/step\n"
          ]
        }
      ]
    },
    {
      "cell_type": "code",
      "source": [
        "decoded = tf.keras.backend.ctc_decode(yhat, input_length=[75], greedy=True)[0][0].numpy()\n"
      ],
      "metadata": {
        "id": "nElOMDAQhUFO"
      },
      "execution_count": 100,
      "outputs": []
    },
    {
      "cell_type": "code",
      "source": [
        "print('~'*100, 'PREDICTIONS')\n",
        "[tf.strings.reduce_join([num_to_char(word) for word in sentence]) for sentence in decoded]"
      ],
      "metadata": {
        "colab": {
          "base_uri": "https://localhost:8080/"
        },
        "id": "faIebK2ZhZaJ",
        "outputId": "095711f8-9b3b-4e6a-d7e1-58c080837ee2"
      },
      "execution_count": 101,
      "outputs": [
        {
          "output_type": "stream",
          "name": "stdout",
          "text": [
            "~~~~~~~~~~~~~~~~~~~~~~~~~~~~~~~~~~~~~~~~~~~~~~~~~~~~~~~~~~~~~~~~~~~~~~~~~~~~~~~~~~~~~~~~~~~~~~~~~~~~ PREDICTIONS\n"
          ]
        },
        {
          "output_type": "execute_result",
          "data": {
            "text/plain": [
              "[<tf.Tensor: shape=(), dtype=string, numpy=b'bin red at s nine again'>]"
            ]
          },
          "metadata": {},
          "execution_count": 101
        }
      ]
    },
    {
      "cell_type": "code",
      "source": [],
      "metadata": {
        "id": "qNvxyI3HhboF"
      },
      "execution_count": null,
      "outputs": []
    }
  ],
  "metadata": {
    "colab": {
      "provenance": []
    },
    "kernelspec": {
      "display_name": "Python 3",
      "name": "python3"
    },
    "language_info": {
      "name": "python"
    }
  },
  "nbformat": 4,
  "nbformat_minor": 0
}